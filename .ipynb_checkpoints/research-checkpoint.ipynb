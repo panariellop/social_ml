{
 "cells": [
  {
   "cell_type": "code",
   "execution_count": 2,
   "metadata": {
    "scrolled": true
   },
   "outputs": [],
   "source": [
    "#ml goal: given input parameters such as \n",
    "#time of day, week, content type, predict engagement rate (likes+comments/followers )\n"
   ]
  },
  {
   "cell_type": "code",
   "execution_count": 42,
   "metadata": {
    "scrolled": true
   },
   "outputs": [
    {
     "name": "stdout",
     "output_type": "stream",
     "text": [
      "[-0.66666667  0.45302714 -0.92278208]\n",
      "--------------FINISHED--------------\n"
     ]
    }
   ],
   "source": [
    "from numpy import loadtxt\n",
    "from keras.models import Sequential\n",
    "from keras.layers import Dense\n",
    "from sklearn.datasets import make_regression\n",
    "import numpy as np\n",
    "from sklearn.preprocessing import MinMaxScaler\n",
    "\n",
    "dataset = loadtxt('post_data.csv', delimiter = \",\")\n",
    "x = dataset[:,0:3]\n",
    "y = dataset[:,3]\n",
    "scaler = MinMaxScaler(feature_range=(-1,1))\n",
    "scaler.fit(x)\n",
    "normalized = scaler.transform(x)\n",
    "x = normalized\n",
    "print(x[0])\n",
    "\n",
    "# #define keras model\n",
    "model = Sequential() #input layer has 8 dimensions\n",
    "model.add(Dense(12, input_dim = 3, activation = 'linear')) # first hidden layer with 12 nodes\n",
    "model.add(Dense(1028, activation = 'linear')) #second hidden layer has 40 nodes and uses the relu activation function\n",
    "model.add(Dense(1028, activation = 'linear')) #second hidden layer has 40 nodes and uses the relu activation function\n",
    "model.add(Dense(1, activation = 'linear')) #output layer which uses the sigmoid actiavtion function\n",
    "\n",
    "#compile keras model --> takes the model and determines the best way to train it\n",
    "model.compile(loss='mse', optimizer='adam', metrics = ['mse'])\n",
    "\n",
    "#fit the keras model on the dataset\n",
    "model.fit(x, y, epochs = 100, batch_size = 20, verbose = 0, validation_split = 0.2)\n",
    "print(\"--------------FINISHED--------------\")"
   ]
  },
  {
   "cell_type": "code",
   "execution_count": 46,
   "metadata": {
    "scrolled": false
   },
   "outputs": [
    {
     "name": "stdout",
     "output_type": "stream",
     "text": [
      "45/45 [==============================] - 0s 6ms/step - loss: 3.0908e-05 - mse: 3.0908e-05\n",
      "mse: 0.000030908\n",
      "Predictions [[ 0.00230286]\n",
      " [ 0.002307  ]\n",
      " [ 0.00232219]\n",
      " [ 0.00237098]\n",
      " [ 0.00269868]\n",
      " [ 0.00297615]\n",
      " [ 0.00303552]\n",
      " [ 0.00303598]\n",
      " [ 0.00308615]\n",
      " [ 0.00323711]\n",
      " [ 0.00354226]\n",
      " [ 0.00359794]\n",
      " [ 0.00359842]\n",
      " [ 0.00360715]\n",
      " [ 0.00361268]\n",
      " [ 0.0036136 ]\n",
      " [ 0.00361406]\n",
      " [-0.00200708]\n",
      " [-0.00200017]\n",
      " [-0.00144879]]\n"
     ]
    }
   ],
   "source": [
    "# evaluate the keras model\n",
    "_, mse = model.evaluate(x, y)\n",
    "print('mse: %.9f' % (mse))\n",
    "\n",
    "X_new = np.array(x[0:20])\n",
    "scaler = MinMaxScaler(feature_range=(-1,1))\n",
    "scaler.fit(X_new)\n",
    "normalized = scaler.transform(X_new)\n",
    "X_new = normalized\n",
    "\n",
    "yhat = model.predict(X_new)\n",
    "print(\"Predictions\", yhat)\n"
   ]
  }
 ],
 "metadata": {
  "kernelspec": {
   "display_name": "Python 3",
   "language": "python",
   "name": "python3"
  },
  "language_info": {
   "codemirror_mode": {
    "name": "ipython",
    "version": 3
   },
   "file_extension": ".py",
   "mimetype": "text/x-python",
   "name": "python",
   "nbconvert_exporter": "python",
   "pygments_lexer": "ipython3",
   "version": "3.8.5"
  }
 },
 "nbformat": 4,
 "nbformat_minor": 4
}
